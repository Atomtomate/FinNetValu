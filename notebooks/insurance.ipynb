{
 "cells": [
  {
   "cell_type": "code",
   "execution_count": null,
   "metadata": {},
   "outputs": [],
   "source": [
    "using Pkg\n",
    "Pkg.activate(\"/home/bertschi/GitRepos/FinNetValu/\")"
   ]
  },
  {
   "cell_type": "code",
   "execution_count": null,
   "metadata": {},
   "outputs": [],
   "source": [
    "using FinNetValu\n",
    "using Distributions\n",
    "using LinearAlgebra\n",
    "using SparseArrays\n",
    "using ForwardDiff\n",
    "using Plots\n",
    "using DataFrames\n",
    "using CSV\n",
    "\n",
    "pyplot()"
   ]
  },
  {
   "cell_type": "code",
   "execution_count": null,
   "metadata": {},
   "outputs": [],
   "source": [
    "r = 0.0\n",
    "τ = 1.0\n",
    "σ = [0.2, 0.2]\n",
    "Lᵨ = cholesky([1.0 0; 0 1.0]).L\n",
    "\n",
    "θ = BlackScholesParams(r, τ, σ, Lᵨ)"
   ]
  },
  {
   "cell_type": "code",
   "execution_count": null,
   "metadata": {},
   "outputs": [],
   "source": [
    "function debtval(net, a₀, θ)\n",
    "    N = numfirms(net)\n",
    "    expectation(Z -> discount(θ) .* debtview(net, fixvalue(net, Aτ(a₀, θ, Z))),\n",
    "                MonteCarloSampler(MvNormal(N, 1.0)),\n",
    "                25000)\n",
    "end\n",
    "\n",
    "function insurancecost(net, a₀, θ)\n",
    "    1 .- debtval(net, a₀, θ) ./ (discount(θ) .* net.d)\n",
    "end"
   ]
  },
  {
   "cell_type": "code",
   "execution_count": null,
   "metadata": {},
   "outputs": [],
   "source": [
    "function create_net(di₁, de₁, di₂, de₂)\n",
    "    d = [di₁ + de₁, di₂ + de₂]\n",
    "    Mᵈ = [0 (di₂ / d[2]); (di₁ / d[1]) 0]\n",
    "    XOSModel(spzeros(2,2), Mᵈ, I, d)\n",
    "end\n",
    "\n",
    "function create_net_sym(di, de)\n",
    "    d = [di + de, di + de]\n",
    "    Mᵈ = [0 (di / d[2]); (di / d[1]) 0]\n",
    "    XOSModel(spzeros(2,2), Mᵈ, I, d)\n",
    "end"
   ]
  },
  {
   "cell_type": "code",
   "execution_count": null,
   "metadata": {},
   "outputs": [],
   "source": [
    "di₂ = 0.6\n",
    "de₂ = 0.4\n",
    "df = DataFrame(di₁ = Float64[], de₁ = Float64[], in1 = Float64[], in2 = Float64[], a0 = Float64[])\n",
    "\n",
    "for di₁ in range(0.2, length = 11, stop = 1)\n",
    "    for de₁ in range(0.2, length = 11, stop = 1)\n",
    "        for a₀ in range(0.2, length = 5, stop = 0.8)\n",
    "            net = create_net(di₁, de₁, di₂, de₂)\n",
    "            ins = insurancecost(net, a₀, θ)\n",
    "            push!(df, (di₁, de₁, ins[1], ins[2], a₀))\n",
    "       end\n",
    "    end\n",
    "end\n",
    "\n",
    "df"
   ]
  },
  {
   "cell_type": "code",
   "execution_count": null,
   "metadata": {},
   "outputs": [],
   "source": [
    "CSV.write(\"/tmp/foo.csv\", df)"
   ]
  },
  {
   "cell_type": "code",
   "execution_count": null,
   "metadata": {},
   "outputs": [],
   "source": [
    "? XOSModel"
   ]
  },
  {
   "cell_type": "code",
   "execution_count": null,
   "metadata": {},
   "outputs": [],
   "source": [
    "di₂ = 0.6\n",
    "de₂ = 0.4\n",
    "df = DataFrame(di1 = Float64[], de1 = Float64[], A1 = Float64[], A2 = Float64[], sol1 = Bool[], sol2 = Bool[])\n",
    "\n",
    "for di₁ in range(0.01, length = 5, stop = 0.8)\n",
    "    for de₁ in range(0.01, length = 5, stop = 0.8)\n",
    "        net = create_net(di₁, de₁, di₂, de₂)\n",
    "        # net = create_net_sym(di₁, de₁)\n",
    "        # for A1 in range(0.0, length = 51, stop = 3)\n",
    "        for logA1 in range(-2, length = 51, stop = 1)\n",
    "            for logA2 in range(-2, length = 51, stop = 1)\n",
    "                A = 10 .^ [logA1, logA2]\n",
    "                x = fixvalue(net, A)\n",
    "                debt = debtview(net, x)\n",
    "                sol  = solvent(net, x)\n",
    "                ins = (net.d .- debt) ./ net.d\n",
    "                push!(df, (di₁, de₁, A[1], A[2], sol[1], sol[2]))\n",
    "            end\n",
    "        end\n",
    "    end\n",
    "end\n",
    "\n",
    "CSV.write(\"/tmp/baz.csv\", df)"
   ]
  },
  {
   "cell_type": "code",
   "execution_count": null,
   "metadata": {},
   "outputs": [],
   "source": [
    "di₂ = 0.6\n",
    "de₂ = 0.4\n",
    "df = DataFrame(di1 = Float64[], de1 = Float64[], in1 = Float64[], in2 = Float64[], lam1 = Float64[], lam2 = Float64[], sigma = Float64[], a0 = Float64[])\n",
    "\n",
    "for di1 in range(0.01, length = 11, stop = 0.8)\n",
    "    for de1 in range(0.01, length = 5, stop = 0.8)\n",
    "        net = create_net(di1, de1, di₂, de₂)\n",
    "        for sigma in [0.1, 0.2, 0.4]\n",
    "            θ = BlackScholesParams(r, τ, sigma, Lᵨ)\n",
    "            for a0 in [0.6, 0.8, 1, 1.2]\n",
    "                N = numfirms(net)\n",
    "                x = expectation(Z -> discount(θ) * fixvalue(net, Aτ(a0, θ, Z)),\n",
    "                                MonteCarloSampler(MvNormal(N, 1.0)),\n",
    "                                25000)\n",
    "                v = equityview(net, x) .+ debtview(net, x)\n",
    "                lam = equityview(net, x) ./ v\n",
    "                ins = 1 .- debtview(net, x) ./ (discount(θ) .* net.d)\n",
    "                push!(df, (di1, de1, ins[1], ins[2], lam[1], lam[2], sigma, a0))\n",
    "            end\n",
    "       end\n",
    "    end\n",
    "end\n",
    "\n",
    "CSV.write(\"/tmp/qux.csv\", df)"
   ]
  },
  {
   "cell_type": "code",
   "execution_count": null,
   "metadata": {},
   "outputs": [],
   "source": [
    "using RCall\n",
    "\n",
    "R\"library(tidyverse)\"\n",
    "R\"library(ggthemes)\"\n",
    "R\"library(viridis)\""
   ]
  },
  {
   "cell_type": "code",
   "execution_count": null,
   "metadata": {},
   "outputs": [],
   "source": [
    "R\"read_csv(\\\"/tmp/baz.csv\\\") %>% ggplot(aes(A1, A2, fill = interaction(sol1, sol2))) + geom_tile() + scale_fill_colorblind() + theme_tufte() + facet_grid(de1 ~ di1) + scale_x_log10() + scale_y_log10() + geom_vline(xintercept = 1) + geom_hline(yintercept=1)\""
   ]
  },
  {
   "cell_type": "code",
   "execution_count": null,
   "metadata": {},
   "outputs": [],
   "source": [
    "R\"read_csv(\\\"/tmp/qux.csv\\\") %>% mutate(in12 = in1 + in2, lam12 = lam1 + lam2) %>% gather(key, val, matches(\\\"in\\\")) %>% ggplot(aes(di1, val, color = factor(sigma), linetype = factor(a0))) + geom_line() + facet_grid(de1 ~ key) + theme_tufte() + scale_color_colorblind()\""
   ]
  },
  {
   "cell_type": "code",
   "execution_count": null,
   "metadata": {},
   "outputs": [],
   "source": []
  }
 ],
 "metadata": {
  "@webio": {
   "lastCommId": "3bb6bdccce7d4ee88a7990b9da238cfe",
   "lastKernelId": "1d1d003c-e2dd-4f7d-9550-ff114ef18b0e"
  },
  "kernelspec": {
   "display_name": "Julia 1.0.0",
   "language": "julia",
   "name": "julia-1.0"
  },
  "language_info": {
   "file_extension": ".jl",
   "mimetype": "application/julia",
   "name": "julia",
   "version": "1.0.0"
  }
 },
 "nbformat": 4,
 "nbformat_minor": 2
}
