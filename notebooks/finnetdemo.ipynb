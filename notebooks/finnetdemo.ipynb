{
 "cells": [
  {
   "cell_type": "code",
   "execution_count": 1,
   "metadata": {},
   "outputs": [
    {
     "data": {
      "text/plain": [
       "\"/home/bertschi/GitRepos/FinNetValu/Project.toml\""
      ]
     },
     "execution_count": 1,
     "metadata": {},
     "output_type": "execute_result"
    }
   ],
   "source": [
    "using Pkg\n",
    "Pkg.activate(\"/home/bertschi/GitRepos/FinNetValu/\")"
   ]
  },
  {
   "cell_type": "code",
   "execution_count": 2,
   "metadata": {},
   "outputs": [],
   "source": [
    "using FinNetValu\n",
    "using ForwardDiff\n",
    "using Distributions\n",
    "using LinearAlgebra\n",
    "using DataFrames\n",
    "using SparseArrays\n",
    "using Plots"
   ]
  },
  {
   "cell_type": "markdown",
   "metadata": {},
   "source": [
    "# Some examples of network valuations"
   ]
  },
  {
   "cell_type": "markdown",
   "metadata": {},
   "source": [
    "## Replicate fig. 2 (left panel) of Barucca et al.\n",
    "\n",
    "Here, we illustrate how the network valuation models can be used.\n",
    "\n",
    "First, look at the documentation for the EisenbergNoeModel"
   ]
  },
  {
   "cell_type": "code",
   "execution_count": 3,
   "metadata": {},
   "outputs": [
    {
     "name": "stdout",
     "output_type": "stream",
     "text": [
      "search: \u001b[0m\u001b[1mE\u001b[22m\u001b[0m\u001b[1mi\u001b[22m\u001b[0m\u001b[1ms\u001b[22m\u001b[0m\u001b[1me\u001b[22m\u001b[0m\u001b[1mn\u001b[22m\u001b[0m\u001b[1mb\u001b[22m\u001b[0m\u001b[1me\u001b[22m\u001b[0m\u001b[1mr\u001b[22m\u001b[0m\u001b[1mg\u001b[22m\u001b[0m\u001b[1mN\u001b[22m\u001b[0m\u001b[1mo\u001b[22m\u001b[0m\u001b[1me\u001b[22m\u001b[0m\u001b[1mM\u001b[22m\u001b[0m\u001b[1mo\u001b[22m\u001b[0m\u001b[1md\u001b[22m\u001b[0m\u001b[1me\u001b[22m\u001b[0m\u001b[1ml\u001b[22m\n",
      "\n"
     ]
    },
    {
     "data": {
      "text/markdown": [
       "```\n",
       "EisenbergNoeModel(Lᵉ, L)\n",
       "```\n",
       "\n",
       "Creates an instance of the NEVAModel with valuation functions\n",
       "\n",
       "$$\n",
       "\\begin{align}\n",
       "\\mathbb{V}^e_i(E_i) &= 1 \\quad \\forall i \\\\\n",
       "\\mathbb{V}_{ij}(E_j) &= \\unicode{x1D7D9}_{E_j \\geq 0} + \\left(\\frac{E_j + \\bar{p}_j}{\\bar{p}_j}\\right)^+ \\unicode{x1D7D9}_{E_j < 0} \\quad \\forall i, j\n",
       "\\end{align}\n",
       "$$\n",
       "\n",
       "where $\\bar{p}_j = \\sum_k L_{jk}$.\n",
       "\n",
       "This valuation was shown to correspond to the model by Eisenberg & Noe.\n"
      ],
      "text/plain": [
       "\u001b[36m  EisenbergNoeModel(Lᵉ, L)\u001b[39m\n",
       "\n",
       "  Creates an instance of the NEVAModel with valuation functions\n",
       "\n",
       "\u001b[35m\\begin{align}\u001b[39m\n",
       "\u001b[35m\\mathbb{V}^e_i(E_i) &= 1 \\quad \\forall i \\\\\u001b[39m\n",
       "\u001b[35m\\mathbb{V}_{ij}(E_j) &= \\unicode{x1D7D9}_{E_j \\geq 0} + \\left(\\frac{E_j + \\bar{p}_j}{\\bar{p}_j}\\right)^+ \\unicode{x1D7D9}_{E_j < 0} \\quad \\forall i, j\u001b[39m\n",
       "\u001b[35m\\end{align}\u001b[39m\n",
       "\n",
       "  where \u001b[35m\\bar{p}_j = \\sum_k L_{jk}\u001b[39m.\n",
       "\n",
       "  This valuation was shown to correspond to the model by Eisenberg & Noe."
      ]
     },
     "execution_count": 3,
     "metadata": {},
     "output_type": "execute_result"
    }
   ],
   "source": [
    "?EisenbergNoeModel"
   ]
  },
  {
   "cell_type": "markdown",
   "metadata": {},
   "source": [
    "Set the parameters as in the paper and create all models.\n",
    "\n",
    "TODO: Implement the ex-ante Eisenberg & Noe model"
   ]
  },
  {
   "cell_type": "code",
   "execution_count": 4,
   "metadata": {},
   "outputs": [
    {
     "data": {
      "text/plain": [
       "3-element Array{NEVAModel,1}:\n",
       " Eisenberg & Noe model with N = 3 firms. \n",
       " Furfine model with N = 3 firms.         \n",
       " Linear Debt Rank model with N = 3 firms."
      ]
     },
     "execution_count": 4,
     "metadata": {},
     "output_type": "execute_result"
    }
   ],
   "source": [
    "Lᵉ = [9., 4., 2.]\n",
    "A = [0 0.5 0;\n",
    "     0 0 0.5;\n",
    "     0.5 0 0]\n",
    "Aᵉ = [10., 5., 3.]\n",
    "\n",
    "models = [EisenbergNoeModel(Lᵉ, A'),\n",
    "          FurfineModel(Lᵉ, A', 0.0),\n",
    "          LinearDebtRankModel(Lᵉ, A')]"
   ]
  },
  {
   "cell_type": "markdown",
   "metadata": {},
   "source": [
    "Then shock each model by decreasing the external asset value by a factor $\\alpha$ and compute the impact on the equity value as in the paper, i.e.\n",
    "$$\n",
    "    \\frac{\\sum_i {\\Delta}E_i - {\\Delta}A^e_i}{\\sum_{ij} A_{ij}}\n",
    "$$\n",
    "where ${\\Delta}A^e = \\alpha A^e$."
   ]
  },
  {
   "cell_type": "code",
   "execution_count": 5,
   "metadata": {},
   "outputs": [
    {
     "data": {
      "text/plain": [
       "runshock (generic function with 1 method)"
      ]
     },
     "execution_count": 5,
     "metadata": {},
     "output_type": "execute_result"
    }
   ],
   "source": [
    "function runshock(model, Aᵉ, α)\n",
    "    E₀ = fixvalue(model, Aᵉ)\n",
    "    ΔAᵉ = α .* Aᵉ\n",
    "    ΔE  = E₀ .- fixvalue(model, Aᵉ .- ΔAᵉ)\n",
    "    sum(ΔE .- ΔAᵉ) / sum(model.A)\n",
    "end"
   ]
  },
  {
   "cell_type": "code",
   "execution_count": 6,
   "metadata": {},
   "outputs": [
    {
     "data": {
      "text/plain": [
       "101×3 Array{Float64,2}:\n",
       "  0.0           0.0          0.0        \n",
       "  3.60822e-16   3.60822e-16  9.03037e-9 \n",
       " -7.58652e-16  -7.58652e-16  1.03422e-9 \n",
       " -3.88578e-16  -3.88578e-16  5.11193e-10\n",
       "  2.59052e-16   2.59052e-16  8.06174e-9 \n",
       "  6.29126e-16   6.29126e-16  7.78693e-9 \n",
       " -4.81097e-16  -4.81097e-16  5.28638e-9 \n",
       " -1.85037e-16  -1.85037e-16  9.10972e-9 \n",
       "  5.18104e-16   5.18104e-16  1.48175e-8 \n",
       " -9.4369e-16   -9.4369e-16   8.8836e-9  \n",
       " -2.22045e-16  -2.22045e-16  7.89447e-9 \n",
       "  7.40149e-17   7.40149e-17  3.30149e-8 \n",
       "  8.14164e-16   8.14164e-16  2.04415e-7 \n",
       "  ⋮                                     \n",
       "  1.0           1.0          1.0        \n",
       "  1.0           1.0          1.0        \n",
       "  1.0           1.0          1.0        \n",
       "  1.0           1.0          1.0        \n",
       "  1.0           1.0          1.0        \n",
       "  1.0           1.0          1.0        \n",
       "  1.0           1.0          1.0        \n",
       "  1.0           1.0          1.0        \n",
       "  1.0           1.0          1.0        \n",
       "  1.0           1.0          1.0        \n",
       "  1.0           1.0          1.0        \n",
       "  1.0           1.0          1.0        "
      ]
     },
     "execution_count": 6,
     "metadata": {},
     "output_type": "execute_result"
    }
   ],
   "source": [
    "αs = range(0, length = 101, stop = 0.6)\n",
    "shocks = collect(runshock(model, Aᵉ, α)\n",
    "                 for α in αs,\n",
    "                     model in models)"
   ]
  },
  {
   "cell_type": "code",
   "execution_count": 7,
   "metadata": {},
   "outputs": [
    {
     "data": {
      "image/svg+xml": [
       "<?xml version=\"1.0\" encoding=\"utf-8\"?>\n",
       "<svg xmlns=\"http://www.w3.org/2000/svg\" xmlns:xlink=\"http://www.w3.org/1999/xlink\" width=\"600\" height=\"400\" viewBox=\"0 0 2400 1600\">\n",
       "<defs>\n",
       "  <clipPath id=\"clip3400\">\n",
       "    <rect x=\"0\" y=\"0\" width=\"2000\" height=\"2000\"/>\n",
       "  </clipPath>\n",
       "</defs>\n",
       "<defs>\n",
       "  <clipPath id=\"clip3401\">\n",
       "    <rect x=\"0\" y=\"0\" width=\"2400\" height=\"1600\"/>\n",
       "  </clipPath>\n",
       "</defs>\n",
       "<polygon clip-path=\"url(#clip3401)\" points=\"\n",
       "0,1600 2400,1600 2400,0 0,0 \n",
       "  \" fill=\"#ffffff\" fill-opacity=\"1\"/>\n",
       "<defs>\n",
       "  <clipPath id=\"clip3402\">\n",
       "    <rect x=\"480\" y=\"0\" width=\"1681\" height=\"1600\"/>\n",
       "  </clipPath>\n",
       "</defs>\n",
       "<polygon clip-path=\"url(#clip3401)\" points=\"\n",
       "188.156,1503.47 2321.26,1503.47 2321.26,47.2441 188.156,47.2441 \n",
       "  \" fill=\"#ffffff\" fill-opacity=\"1\"/>\n",
       "<defs>\n",
       "  <clipPath id=\"clip3403\">\n",
       "    <rect x=\"188\" y=\"47\" width=\"2134\" height=\"1457\"/>\n",
       "  </clipPath>\n",
       "</defs>\n",
       "<polyline clip-path=\"url(#clip3403)\" style=\"stroke:#000000; stroke-width:2; stroke-opacity:0.1; fill:none\" points=\"\n",
       "  248.527,1503.47 248.527,47.2441 \n",
       "  \"/>\n",
       "<polyline clip-path=\"url(#clip3403)\" style=\"stroke:#000000; stroke-width:2; stroke-opacity:0.1; fill:none\" points=\"\n",
       "  583.921,1503.47 583.921,47.2441 \n",
       "  \"/>\n",
       "<polyline clip-path=\"url(#clip3403)\" style=\"stroke:#000000; stroke-width:2; stroke-opacity:0.1; fill:none\" points=\"\n",
       "  919.314,1503.47 919.314,47.2441 \n",
       "  \"/>\n",
       "<polyline clip-path=\"url(#clip3403)\" style=\"stroke:#000000; stroke-width:2; stroke-opacity:0.1; fill:none\" points=\"\n",
       "  1254.71,1503.47 1254.71,47.2441 \n",
       "  \"/>\n",
       "<polyline clip-path=\"url(#clip3403)\" style=\"stroke:#000000; stroke-width:2; stroke-opacity:0.1; fill:none\" points=\"\n",
       "  1590.1,1503.47 1590.1,47.2441 \n",
       "  \"/>\n",
       "<polyline clip-path=\"url(#clip3403)\" style=\"stroke:#000000; stroke-width:2; stroke-opacity:0.1; fill:none\" points=\"\n",
       "  1925.5,1503.47 1925.5,47.2441 \n",
       "  \"/>\n",
       "<polyline clip-path=\"url(#clip3403)\" style=\"stroke:#000000; stroke-width:2; stroke-opacity:0.1; fill:none\" points=\"\n",
       "  2260.89,1503.47 2260.89,47.2441 \n",
       "  \"/>\n",
       "<polyline clip-path=\"url(#clip3403)\" style=\"stroke:#000000; stroke-width:2; stroke-opacity:0.1; fill:none\" points=\"\n",
       "  188.156,1462.26 2321.26,1462.26 \n",
       "  \"/>\n",
       "<polyline clip-path=\"url(#clip3403)\" style=\"stroke:#000000; stroke-width:2; stroke-opacity:0.1; fill:none\" points=\"\n",
       "  188.156,1118.81 2321.26,1118.81 \n",
       "  \"/>\n",
       "<polyline clip-path=\"url(#clip3403)\" style=\"stroke:#000000; stroke-width:2; stroke-opacity:0.1; fill:none\" points=\"\n",
       "  188.156,775.359 2321.26,775.359 \n",
       "  \"/>\n",
       "<polyline clip-path=\"url(#clip3403)\" style=\"stroke:#000000; stroke-width:2; stroke-opacity:0.1; fill:none\" points=\"\n",
       "  188.156,431.909 2321.26,431.909 \n",
       "  \"/>\n",
       "<polyline clip-path=\"url(#clip3403)\" style=\"stroke:#000000; stroke-width:2; stroke-opacity:0.1; fill:none\" points=\"\n",
       "  188.156,88.4582 2321.26,88.4582 \n",
       "  \"/>\n",
       "<polyline clip-path=\"url(#clip3401)\" style=\"stroke:#000000; stroke-width:4; stroke-opacity:1; fill:none\" points=\"\n",
       "  188.156,1503.47 2321.26,1503.47 \n",
       "  \"/>\n",
       "<polyline clip-path=\"url(#clip3401)\" style=\"stroke:#000000; stroke-width:4; stroke-opacity:1; fill:none\" points=\"\n",
       "  188.156,1503.47 188.156,47.2441 \n",
       "  \"/>\n",
       "<polyline clip-path=\"url(#clip3401)\" style=\"stroke:#000000; stroke-width:4; stroke-opacity:1; fill:none\" points=\"\n",
       "  248.527,1503.47 248.527,1481.63 \n",
       "  \"/>\n",
       "<polyline clip-path=\"url(#clip3401)\" style=\"stroke:#000000; stroke-width:4; stroke-opacity:1; fill:none\" points=\"\n",
       "  583.921,1503.47 583.921,1481.63 \n",
       "  \"/>\n",
       "<polyline clip-path=\"url(#clip3401)\" style=\"stroke:#000000; stroke-width:4; stroke-opacity:1; fill:none\" points=\"\n",
       "  919.314,1503.47 919.314,1481.63 \n",
       "  \"/>\n",
       "<polyline clip-path=\"url(#clip3401)\" style=\"stroke:#000000; stroke-width:4; stroke-opacity:1; fill:none\" points=\"\n",
       "  1254.71,1503.47 1254.71,1481.63 \n",
       "  \"/>\n",
       "<polyline clip-path=\"url(#clip3401)\" style=\"stroke:#000000; stroke-width:4; stroke-opacity:1; fill:none\" points=\"\n",
       "  1590.1,1503.47 1590.1,1481.63 \n",
       "  \"/>\n",
       "<polyline clip-path=\"url(#clip3401)\" style=\"stroke:#000000; stroke-width:4; stroke-opacity:1; fill:none\" points=\"\n",
       "  1925.5,1503.47 1925.5,1481.63 \n",
       "  \"/>\n",
       "<polyline clip-path=\"url(#clip3401)\" style=\"stroke:#000000; stroke-width:4; stroke-opacity:1; fill:none\" points=\"\n",
       "  2260.89,1503.47 2260.89,1481.63 \n",
       "  \"/>\n",
       "<polyline clip-path=\"url(#clip3401)\" style=\"stroke:#000000; stroke-width:4; stroke-opacity:1; fill:none\" points=\"\n",
       "  188.156,1462.26 220.153,1462.26 \n",
       "  \"/>\n",
       "<polyline clip-path=\"url(#clip3401)\" style=\"stroke:#000000; stroke-width:4; stroke-opacity:1; fill:none\" points=\"\n",
       "  188.156,1118.81 220.153,1118.81 \n",
       "  \"/>\n",
       "<polyline clip-path=\"url(#clip3401)\" style=\"stroke:#000000; stroke-width:4; stroke-opacity:1; fill:none\" points=\"\n",
       "  188.156,775.359 220.153,775.359 \n",
       "  \"/>\n",
       "<polyline clip-path=\"url(#clip3401)\" style=\"stroke:#000000; stroke-width:4; stroke-opacity:1; fill:none\" points=\"\n",
       "  188.156,431.909 220.153,431.909 \n",
       "  \"/>\n",
       "<polyline clip-path=\"url(#clip3401)\" style=\"stroke:#000000; stroke-width:4; stroke-opacity:1; fill:none\" points=\"\n",
       "  188.156,88.4582 220.153,88.4582 \n",
       "  \"/>\n",
       "<g clip-path=\"url(#clip3401)\">\n",
       "<text style=\"fill:#000000; fill-opacity:1; font-family:Arial,Helvetica Neue,Helvetica,sans-serif; font-size:48px; text-anchor:middle;\" transform=\"rotate(0, 248.527, 1557.47)\" x=\"248.527\" y=\"1557.47\">0.0</text>\n",
       "</g>\n",
       "<g clip-path=\"url(#clip3401)\">\n",
       "<text style=\"fill:#000000; fill-opacity:1; font-family:Arial,Helvetica Neue,Helvetica,sans-serif; font-size:48px; text-anchor:middle;\" transform=\"rotate(0, 583.921, 1557.47)\" x=\"583.921\" y=\"1557.47\">0.1</text>\n",
       "</g>\n",
       "<g clip-path=\"url(#clip3401)\">\n",
       "<text style=\"fill:#000000; fill-opacity:1; font-family:Arial,Helvetica Neue,Helvetica,sans-serif; font-size:48px; text-anchor:middle;\" transform=\"rotate(0, 919.314, 1557.47)\" x=\"919.314\" y=\"1557.47\">0.2</text>\n",
       "</g>\n",
       "<g clip-path=\"url(#clip3401)\">\n",
       "<text style=\"fill:#000000; fill-opacity:1; font-family:Arial,Helvetica Neue,Helvetica,sans-serif; font-size:48px; text-anchor:middle;\" transform=\"rotate(0, 1254.71, 1557.47)\" x=\"1254.71\" y=\"1557.47\">0.3</text>\n",
       "</g>\n",
       "<g clip-path=\"url(#clip3401)\">\n",
       "<text style=\"fill:#000000; fill-opacity:1; font-family:Arial,Helvetica Neue,Helvetica,sans-serif; font-size:48px; text-anchor:middle;\" transform=\"rotate(0, 1590.1, 1557.47)\" x=\"1590.1\" y=\"1557.47\">0.4</text>\n",
       "</g>\n",
       "<g clip-path=\"url(#clip3401)\">\n",
       "<text style=\"fill:#000000; fill-opacity:1; font-family:Arial,Helvetica Neue,Helvetica,sans-serif; font-size:48px; text-anchor:middle;\" transform=\"rotate(0, 1925.5, 1557.47)\" x=\"1925.5\" y=\"1557.47\">0.5</text>\n",
       "</g>\n",
       "<g clip-path=\"url(#clip3401)\">\n",
       "<text style=\"fill:#000000; fill-opacity:1; font-family:Arial,Helvetica Neue,Helvetica,sans-serif; font-size:48px; text-anchor:middle;\" transform=\"rotate(0, 2260.89, 1557.47)\" x=\"2260.89\" y=\"1557.47\">0.6</text>\n",
       "</g>\n",
       "<g clip-path=\"url(#clip3401)\">\n",
       "<text style=\"fill:#000000; fill-opacity:1; font-family:Arial,Helvetica Neue,Helvetica,sans-serif; font-size:48px; text-anchor:end;\" transform=\"rotate(0, 164.156, 1479.76)\" x=\"164.156\" y=\"1479.76\">0.00</text>\n",
       "</g>\n",
       "<g clip-path=\"url(#clip3401)\">\n",
       "<text style=\"fill:#000000; fill-opacity:1; font-family:Arial,Helvetica Neue,Helvetica,sans-serif; font-size:48px; text-anchor:end;\" transform=\"rotate(0, 164.156, 1136.31)\" x=\"164.156\" y=\"1136.31\">0.25</text>\n",
       "</g>\n",
       "<g clip-path=\"url(#clip3401)\">\n",
       "<text style=\"fill:#000000; fill-opacity:1; font-family:Arial,Helvetica Neue,Helvetica,sans-serif; font-size:48px; text-anchor:end;\" transform=\"rotate(0, 164.156, 792.859)\" x=\"164.156\" y=\"792.859\">0.50</text>\n",
       "</g>\n",
       "<g clip-path=\"url(#clip3401)\">\n",
       "<text style=\"fill:#000000; fill-opacity:1; font-family:Arial,Helvetica Neue,Helvetica,sans-serif; font-size:48px; text-anchor:end;\" transform=\"rotate(0, 164.156, 449.409)\" x=\"164.156\" y=\"449.409\">0.75</text>\n",
       "</g>\n",
       "<g clip-path=\"url(#clip3401)\">\n",
       "<text style=\"fill:#000000; fill-opacity:1; font-family:Arial,Helvetica Neue,Helvetica,sans-serif; font-size:48px; text-anchor:end;\" transform=\"rotate(0, 164.156, 105.958)\" x=\"164.156\" y=\"105.958\">1.00</text>\n",
       "</g>\n",
       "<polyline clip-path=\"url(#clip3403)\" style=\"stroke:#009af9; stroke-width:4; stroke-opacity:1; fill:none\" points=\"\n",
       "  248.527,1462.26 268.651,1462.26 288.774,1462.26 308.898,1462.26 329.022,1462.26 349.145,1462.26 369.269,1462.26 389.393,1462.26 409.516,1462.26 429.64,1462.26 \n",
       "  449.763,1462.26 469.887,1462.26 490.011,1462.26 510.134,1462.26 530.258,1462.26 550.381,1462.26 570.505,1462.26 590.629,1443.94 610.752,1388.99 630.876,1334.04 \n",
       "  651,1279.09 671.123,1224.13 691.247,1169.18 711.37,1114.23 731.494,1059.28 751.618,1004.33 771.741,1004.33 791.865,1004.33 811.989,1000.66 832.112,984.177 \n",
       "  852.236,967.692 872.359,951.206 892.483,901.749 912.607,841.302 932.73,780.855 952.854,720.407 972.977,659.96 993.101,599.513 1013.22,539.065 1033.35,478.618 \n",
       "  1053.47,418.171 1073.6,357.723 1093.72,311.93 1113.84,295.444 1133.97,278.959 1154.09,262.473 1174.21,245.988 1194.34,229.502 1214.46,213.016 1234.58,196.531 \n",
       "  1254.71,180.045 1274.83,163.559 1294.96,147.074 1315.08,130.588 1335.2,114.102 1355.33,97.6169 1375.45,88.4582 1395.57,88.4582 1415.7,88.4582 1435.82,88.4582 \n",
       "  1455.94,88.4582 1476.07,88.4582 1496.19,88.4582 1516.32,88.4582 1536.44,88.4582 1556.56,88.4582 1576.69,88.4582 1596.81,88.4582 1616.93,88.4582 1637.06,88.4582 \n",
       "  1657.18,88.4582 1677.3,88.4582 1697.43,88.4582 1717.55,88.4582 1737.67,88.4582 1757.8,88.4582 1777.92,88.4582 1798.05,88.4582 1818.17,88.4582 1838.29,88.4582 \n",
       "  1858.42,88.4582 1878.54,88.4582 1898.66,88.4582 1918.79,88.4582 1938.91,88.4582 1959.03,88.4582 1979.16,88.4582 1999.28,88.4582 2019.41,88.4582 2039.53,88.4582 \n",
       "  2059.65,88.4582 2079.78,88.4582 2099.9,88.4582 2120.02,88.4582 2140.15,88.4582 2160.27,88.4582 2180.39,88.4582 2200.52,88.4582 2220.64,88.4582 2240.77,88.4582 \n",
       "  2260.89,88.4582 \n",
       "  \"/>\n",
       "<polyline clip-path=\"url(#clip3403)\" style=\"stroke:#e26f46; stroke-width:4; stroke-opacity:1; fill:none\" points=\"\n",
       "  248.527,1462.26 268.651,1462.26 288.774,1462.26 308.898,1462.26 329.022,1462.26 349.145,1462.26 369.269,1462.26 389.393,1462.26 409.516,1462.26 429.64,1462.26 \n",
       "  449.763,1462.26 469.887,1462.26 490.011,1462.26 510.134,1462.26 530.258,1462.26 550.381,1462.26 570.505,1462.26 590.629,1004.33 610.752,1004.33 630.876,1004.33 \n",
       "  651,1004.33 671.123,1004.33 691.247,1004.33 711.37,1004.33 731.494,1004.33 751.618,1004.33 771.741,1004.33 791.865,1004.33 811.989,88.4582 832.112,88.4582 \n",
       "  852.236,88.4582 872.359,88.4582 892.483,88.4582 912.607,88.4582 932.73,88.4582 952.854,88.4582 972.977,88.4582 993.101,88.4582 1013.22,88.4582 1033.35,88.4582 \n",
       "  1053.47,88.4582 1073.6,88.4582 1093.72,88.4582 1113.84,88.4582 1133.97,88.4582 1154.09,88.4582 1174.21,88.4582 1194.34,88.4582 1214.46,88.4582 1234.58,88.4582 \n",
       "  1254.71,88.4582 1274.83,88.4582 1294.96,88.4582 1315.08,88.4582 1335.2,88.4582 1355.33,88.4582 1375.45,88.4582 1395.57,88.4582 1415.7,88.4582 1435.82,88.4582 \n",
       "  1455.94,88.4582 1476.07,88.4582 1496.19,88.4582 1516.32,88.4582 1536.44,88.4582 1556.56,88.4582 1576.69,88.4582 1596.81,88.4582 1616.93,88.4582 1637.06,88.4582 \n",
       "  1657.18,88.4582 1677.3,88.4582 1697.43,88.4582 1717.55,88.4582 1737.67,88.4582 1757.8,88.4582 1777.92,88.4582 1798.05,88.4582 1818.17,88.4582 1838.29,88.4582 \n",
       "  1858.42,88.4582 1878.54,88.4582 1898.66,88.4582 1918.79,88.4582 1938.91,88.4582 1959.03,88.4582 1979.16,88.4582 1999.28,88.4582 2019.41,88.4582 2039.53,88.4582 \n",
       "  2059.65,88.4582 2079.78,88.4582 2099.9,88.4582 2120.02,88.4582 2140.15,88.4582 2160.27,88.4582 2180.39,88.4582 2200.52,88.4582 2220.64,88.4582 2240.77,88.4582 \n",
       "  2260.89,88.4582 \n",
       "  \"/>\n",
       "<polyline clip-path=\"url(#clip3403)\" style=\"stroke:#3da44d; stroke-width:4; stroke-opacity:1; fill:none\" points=\"\n",
       "  248.527,1462.26 268.651,1462.26 288.774,1462.26 308.898,1462.26 329.022,1462.26 349.145,1462.26 369.269,1462.26 389.393,1462.26 409.516,1462.26 429.64,1462.26 \n",
       "  449.763,1462.26 469.887,1462.26 490.011,1462.26 510.134,460.404 530.258,434.337 550.381,405.533 570.505,373.529 590.629,337.746 610.752,297.456 630.876,251.731 \n",
       "  651,199.364 671.123,178.278 691.247,167.308 711.37,155.664 731.494,143.281 751.618,130.089 771.741,116.003 791.865,100.931 811.989,88.4582 832.112,88.4582 \n",
       "  852.236,88.4582 872.359,88.4582 892.483,88.4582 912.607,88.4582 932.73,88.4582 952.854,88.4582 972.977,88.4582 993.101,88.4582 1013.22,88.4582 1033.35,88.4582 \n",
       "  1053.47,88.4582 1073.6,88.4582 1093.72,88.4582 1113.84,88.4582 1133.97,88.4582 1154.09,88.4582 1174.21,88.4582 1194.34,88.4582 1214.46,88.4582 1234.58,88.4582 \n",
       "  1254.71,88.4582 1274.83,88.4582 1294.96,88.4582 1315.08,88.4582 1335.2,88.4582 1355.33,88.4582 1375.45,88.4582 1395.57,88.4582 1415.7,88.4582 1435.82,88.4582 \n",
       "  1455.94,88.4582 1476.07,88.4582 1496.19,88.4582 1516.32,88.4582 1536.44,88.4582 1556.56,88.4582 1576.69,88.4582 1596.81,88.4582 1616.93,88.4582 1637.06,88.4582 \n",
       "  1657.18,88.4582 1677.3,88.4582 1697.43,88.4582 1717.55,88.4582 1737.67,88.4582 1757.8,88.4582 1777.92,88.4582 1798.05,88.4582 1818.17,88.4582 1838.29,88.4582 \n",
       "  1858.42,88.4582 1878.54,88.4582 1898.66,88.4582 1918.79,88.4582 1938.91,88.4582 1959.03,88.4582 1979.16,88.4582 1999.28,88.4582 2019.41,88.4582 2039.53,88.4582 \n",
       "  2059.65,88.4582 2079.78,88.4582 2099.9,88.4582 2120.02,88.4582 2140.15,88.4582 2160.27,88.4582 2180.39,88.4582 2200.52,88.4582 2220.64,88.4582 2240.77,88.4582 \n",
       "  2260.89,88.4582 \n",
       "  \"/>\n",
       "<polygon clip-path=\"url(#clip3401)\" points=\"\n",
       "1958.43,372.684 2249.26,372.684 2249.26,130.764 1958.43,130.764 \n",
       "  \" fill=\"#ffffff\" fill-opacity=\"1\"/>\n",
       "<polyline clip-path=\"url(#clip3401)\" style=\"stroke:#000000; stroke-width:4; stroke-opacity:1; fill:none\" points=\"\n",
       "  1958.43,372.684 2249.26,372.684 2249.26,130.764 1958.43,130.764 1958.43,372.684 \n",
       "  \"/>\n",
       "<polyline clip-path=\"url(#clip3401)\" style=\"stroke:#009af9; stroke-width:4; stroke-opacity:1; fill:none\" points=\"\n",
       "  1982.43,191.244 2126.43,191.244 \n",
       "  \"/>\n",
       "<g clip-path=\"url(#clip3401)\">\n",
       "<text style=\"fill:#000000; fill-opacity:1; font-family:Arial,Helvetica Neue,Helvetica,sans-serif; font-size:48px; text-anchor:start;\" transform=\"rotate(0, 2150.43, 208.744)\" x=\"2150.43\" y=\"208.744\">y1</text>\n",
       "</g>\n",
       "<polyline clip-path=\"url(#clip3401)\" style=\"stroke:#e26f46; stroke-width:4; stroke-opacity:1; fill:none\" points=\"\n",
       "  1982.43,251.724 2126.43,251.724 \n",
       "  \"/>\n",
       "<g clip-path=\"url(#clip3401)\">\n",
       "<text style=\"fill:#000000; fill-opacity:1; font-family:Arial,Helvetica Neue,Helvetica,sans-serif; font-size:48px; text-anchor:start;\" transform=\"rotate(0, 2150.43, 269.224)\" x=\"2150.43\" y=\"269.224\">y2</text>\n",
       "</g>\n",
       "<polyline clip-path=\"url(#clip3401)\" style=\"stroke:#3da44d; stroke-width:4; stroke-opacity:1; fill:none\" points=\"\n",
       "  1982.43,312.204 2126.43,312.204 \n",
       "  \"/>\n",
       "<g clip-path=\"url(#clip3401)\">\n",
       "<text style=\"fill:#000000; fill-opacity:1; font-family:Arial,Helvetica Neue,Helvetica,sans-serif; font-size:48px; text-anchor:start;\" transform=\"rotate(0, 2150.43, 329.704)\" x=\"2150.43\" y=\"329.704\">y3</text>\n",
       "</g>\n",
       "</svg>\n"
      ]
     },
     "execution_count": 7,
     "metadata": {},
     "output_type": "execute_result"
    }
   ],
   "source": [
    "plot(αs, shocks)"
   ]
  },
  {
   "cell_type": "markdown",
   "metadata": {},
   "source": [
    "## Replicate Greeks figures from our paper\n",
    "\n",
    "Start with $\\Delta$, i.e. compute the risk-neutral expectation over the gradient wrt $a_0$. As in the paper, we show the mean impact of an asset price shock for each bank, separately for equity and debt."
   ]
  },
  {
   "cell_type": "code",
   "execution_count": 8,
   "metadata": {},
   "outputs": [
    {
     "data": {
      "text/plain": [
       "delta (generic function with 1 method)"
      ]
     },
     "execution_count": 8,
     "metadata": {},
     "output_type": "execute_result"
    }
   ],
   "source": [
    "function delta(net, a₀, θ, Z)\n",
    "    A = Aτ(a₀, θ, Z)\n",
    "    x = fixvalue(net, A;\n",
    "                 method = :anderson, m = 5)\n",
    "    dVdA = fixjacobian(net, A, x)\n",
    "    dAda₀ = ForwardDiff.jacobian(a -> Aτ(a, θ, Z), a₀)\n",
    "    ## Compute Δ as in eq. ???\n",
    "    dVda₀ = discount(θ) * dVdA * dAda₀\n",
    "\n",
    "    N = numfirms(net)\n",
    "    deltaEq = sum(equityview(net, dVda₀)) / N\n",
    "    deltaDb = sum(debtview(net, dVda₀)) / N\n",
    "    [deltaEq, deltaDb, deltaEq + deltaDb]\n",
    "end"
   ]
  },
  {
   "cell_type": "code",
   "execution_count": 9,
   "metadata": {},
   "outputs": [],
   "source": [
    "θ = BlackScholesParams(0.0, 1.0, 0.4)\n",
    "N = 60\n",
    "k = 3.0\n",
    "wᵈ = 0.6;"
   ]
  },
  {
   "cell_type": "markdown",
   "metadata": {},
   "source": [
    "Create a random Erdos-Renyi network of debt cross-holdings for the above parameters."
   ]
  },
  {
   "cell_type": "code",
   "execution_count": 10,
   "metadata": {},
   "outputs": [],
   "source": [
    "function randnet(N, k, wᵈ)\n",
    "    p = k / (N - 1)\n",
    "    XOSModel(spzeros(N, N),\n",
    "             rescale(erdosrenyi(N, p), wᵈ),\n",
    "             I, ones(N))\n",
    "end\n",
    "\n",
    "nextnet = calm(() -> randnet(N, k, wᵈ), 100);"
   ]
  },
  {
   "cell_type": "markdown",
   "metadata": {},
   "source": [
    "Run over a range of initial asset prices and compute $\\Delta$ in each case.\n",
    "\n",
    "Note that calming the network creation function achieves that each network is used 100 times during the Monte-Carlo expectation."
   ]
  },
  {
   "cell_type": "code",
   "execution_count": 11,
   "metadata": {},
   "outputs": [
    {
     "name": "stdout",
     "output_type": "stream",
     "text": [
      "106.927441 seconds (129.68 M allocations: 122.659 GiB, 15.13% gc time)\n"
     ]
    }
   ],
   "source": [
    "a₀ = range(0, length = 31, stop = 2.0)\n",
    "@time Δ = collect(expectation(z -> delta(nextnet(), a * ones(N), θ, z),\n",
    "                              MonteCarloSampler(MvNormal(N, 1.0)),\n",
    "                              2500)\n",
    "                  for a in a₀);"
   ]
  },
  {
   "cell_type": "code",
   "execution_count": 12,
   "metadata": {},
   "outputs": [
    {
     "data": {
      "image/svg+xml": [
       "<?xml version=\"1.0\" encoding=\"utf-8\"?>\n",
       "<svg xmlns=\"http://www.w3.org/2000/svg\" xmlns:xlink=\"http://www.w3.org/1999/xlink\" width=\"600\" height=\"400\" viewBox=\"0 0 2400 1600\">\n",
       "<defs>\n",
       "  <clipPath id=\"clip3600\">\n",
       "    <rect x=\"0\" y=\"0\" width=\"2000\" height=\"2000\"/>\n",
       "  </clipPath>\n",
       "</defs>\n",
       "<defs>\n",
       "  <clipPath id=\"clip3601\">\n",
       "    <rect x=\"0\" y=\"0\" width=\"2400\" height=\"1600\"/>\n",
       "  </clipPath>\n",
       "</defs>\n",
       "<polygon clip-path=\"url(#clip3601)\" points=\"\n",
       "0,1600 2400,1600 2400,0 0,0 \n",
       "  \" fill=\"#ffffff\" fill-opacity=\"1\"/>\n",
       "<defs>\n",
       "  <clipPath id=\"clip3602\">\n",
       "    <rect x=\"480\" y=\"0\" width=\"1681\" height=\"1600\"/>\n",
       "  </clipPath>\n",
       "</defs>\n",
       "<polygon clip-path=\"url(#clip3601)\" points=\"\n",
       "161.394,1503.47 2321.26,1503.47 2321.26,47.2441 161.394,47.2441 \n",
       "  \" fill=\"#ffffff\" fill-opacity=\"1\"/>\n",
       "<defs>\n",
       "  <clipPath id=\"clip3603\">\n",
       "    <rect x=\"161\" y=\"47\" width=\"2161\" height=\"1457\"/>\n",
       "  </clipPath>\n",
       "</defs>\n",
       "<polyline clip-path=\"url(#clip3603)\" style=\"stroke:#000000; stroke-width:2; stroke-opacity:0.1; fill:none\" points=\"\n",
       "  222.522,1503.47 222.522,47.2441 \n",
       "  \"/>\n",
       "<polyline clip-path=\"url(#clip3603)\" style=\"stroke:#000000; stroke-width:2; stroke-opacity:0.1; fill:none\" points=\"\n",
       "  731.925,1503.47 731.925,47.2441 \n",
       "  \"/>\n",
       "<polyline clip-path=\"url(#clip3603)\" style=\"stroke:#000000; stroke-width:2; stroke-opacity:0.1; fill:none\" points=\"\n",
       "  1241.33,1503.47 1241.33,47.2441 \n",
       "  \"/>\n",
       "<polyline clip-path=\"url(#clip3603)\" style=\"stroke:#000000; stroke-width:2; stroke-opacity:0.1; fill:none\" points=\"\n",
       "  1750.73,1503.47 1750.73,47.2441 \n",
       "  \"/>\n",
       "<polyline clip-path=\"url(#clip3603)\" style=\"stroke:#000000; stroke-width:2; stroke-opacity:0.1; fill:none\" points=\"\n",
       "  2260.13,1503.47 2260.13,47.2441 \n",
       "  \"/>\n",
       "<polyline clip-path=\"url(#clip3603)\" style=\"stroke:#000000; stroke-width:2; stroke-opacity:0.1; fill:none\" points=\"\n",
       "  161.394,1462.26 2321.26,1462.26 \n",
       "  \"/>\n",
       "<polyline clip-path=\"url(#clip3603)\" style=\"stroke:#000000; stroke-width:2; stroke-opacity:0.1; fill:none\" points=\"\n",
       "  161.394,1170.8 2321.26,1170.8 \n",
       "  \"/>\n",
       "<polyline clip-path=\"url(#clip3603)\" style=\"stroke:#000000; stroke-width:2; stroke-opacity:0.1; fill:none\" points=\"\n",
       "  161.394,879.337 2321.26,879.337 \n",
       "  \"/>\n",
       "<polyline clip-path=\"url(#clip3603)\" style=\"stroke:#000000; stroke-width:2; stroke-opacity:0.1; fill:none\" points=\"\n",
       "  161.394,587.876 2321.26,587.876 \n",
       "  \"/>\n",
       "<polyline clip-path=\"url(#clip3603)\" style=\"stroke:#000000; stroke-width:2; stroke-opacity:0.1; fill:none\" points=\"\n",
       "  161.394,296.414 2321.26,296.414 \n",
       "  \"/>\n",
       "<polyline clip-path=\"url(#clip3601)\" style=\"stroke:#000000; stroke-width:4; stroke-opacity:1; fill:none\" points=\"\n",
       "  161.394,1503.47 2321.26,1503.47 \n",
       "  \"/>\n",
       "<polyline clip-path=\"url(#clip3601)\" style=\"stroke:#000000; stroke-width:4; stroke-opacity:1; fill:none\" points=\"\n",
       "  161.394,1503.47 161.394,47.2441 \n",
       "  \"/>\n",
       "<polyline clip-path=\"url(#clip3601)\" style=\"stroke:#000000; stroke-width:4; stroke-opacity:1; fill:none\" points=\"\n",
       "  222.522,1503.47 222.522,1481.63 \n",
       "  \"/>\n",
       "<polyline clip-path=\"url(#clip3601)\" style=\"stroke:#000000; stroke-width:4; stroke-opacity:1; fill:none\" points=\"\n",
       "  731.925,1503.47 731.925,1481.63 \n",
       "  \"/>\n",
       "<polyline clip-path=\"url(#clip3601)\" style=\"stroke:#000000; stroke-width:4; stroke-opacity:1; fill:none\" points=\"\n",
       "  1241.33,1503.47 1241.33,1481.63 \n",
       "  \"/>\n",
       "<polyline clip-path=\"url(#clip3601)\" style=\"stroke:#000000; stroke-width:4; stroke-opacity:1; fill:none\" points=\"\n",
       "  1750.73,1503.47 1750.73,1481.63 \n",
       "  \"/>\n",
       "<polyline clip-path=\"url(#clip3601)\" style=\"stroke:#000000; stroke-width:4; stroke-opacity:1; fill:none\" points=\"\n",
       "  2260.13,1503.47 2260.13,1481.63 \n",
       "  \"/>\n",
       "<polyline clip-path=\"url(#clip3601)\" style=\"stroke:#000000; stroke-width:4; stroke-opacity:1; fill:none\" points=\"\n",
       "  161.394,1462.26 193.792,1462.26 \n",
       "  \"/>\n",
       "<polyline clip-path=\"url(#clip3601)\" style=\"stroke:#000000; stroke-width:4; stroke-opacity:1; fill:none\" points=\"\n",
       "  161.394,1170.8 193.792,1170.8 \n",
       "  \"/>\n",
       "<polyline clip-path=\"url(#clip3601)\" style=\"stroke:#000000; stroke-width:4; stroke-opacity:1; fill:none\" points=\"\n",
       "  161.394,879.337 193.792,879.337 \n",
       "  \"/>\n",
       "<polyline clip-path=\"url(#clip3601)\" style=\"stroke:#000000; stroke-width:4; stroke-opacity:1; fill:none\" points=\"\n",
       "  161.394,587.876 193.792,587.876 \n",
       "  \"/>\n",
       "<polyline clip-path=\"url(#clip3601)\" style=\"stroke:#000000; stroke-width:4; stroke-opacity:1; fill:none\" points=\"\n",
       "  161.394,296.414 193.792,296.414 \n",
       "  \"/>\n",
       "<g clip-path=\"url(#clip3601)\">\n",
       "<text style=\"fill:#000000; fill-opacity:1; font-family:Arial,Helvetica Neue,Helvetica,sans-serif; font-size:48px; text-anchor:middle;\" transform=\"rotate(0, 222.522, 1557.47)\" x=\"222.522\" y=\"1557.47\">0.0</text>\n",
       "</g>\n",
       "<g clip-path=\"url(#clip3601)\">\n",
       "<text style=\"fill:#000000; fill-opacity:1; font-family:Arial,Helvetica Neue,Helvetica,sans-serif; font-size:48px; text-anchor:middle;\" transform=\"rotate(0, 731.925, 1557.47)\" x=\"731.925\" y=\"1557.47\">0.5</text>\n",
       "</g>\n",
       "<g clip-path=\"url(#clip3601)\">\n",
       "<text style=\"fill:#000000; fill-opacity:1; font-family:Arial,Helvetica Neue,Helvetica,sans-serif; font-size:48px; text-anchor:middle;\" transform=\"rotate(0, 1241.33, 1557.47)\" x=\"1241.33\" y=\"1557.47\">1.0</text>\n",
       "</g>\n",
       "<g clip-path=\"url(#clip3601)\">\n",
       "<text style=\"fill:#000000; fill-opacity:1; font-family:Arial,Helvetica Neue,Helvetica,sans-serif; font-size:48px; text-anchor:middle;\" transform=\"rotate(0, 1750.73, 1557.47)\" x=\"1750.73\" y=\"1557.47\">1.5</text>\n",
       "</g>\n",
       "<g clip-path=\"url(#clip3601)\">\n",
       "<text style=\"fill:#000000; fill-opacity:1; font-family:Arial,Helvetica Neue,Helvetica,sans-serif; font-size:48px; text-anchor:middle;\" transform=\"rotate(0, 2260.13, 1557.47)\" x=\"2260.13\" y=\"1557.47\">2.0</text>\n",
       "</g>\n",
       "<g clip-path=\"url(#clip3601)\">\n",
       "<text style=\"fill:#000000; fill-opacity:1; font-family:Arial,Helvetica Neue,Helvetica,sans-serif; font-size:48px; text-anchor:end;\" transform=\"rotate(0, 137.394, 1479.76)\" x=\"137.394\" y=\"1479.76\">0.0</text>\n",
       "</g>\n",
       "<g clip-path=\"url(#clip3601)\">\n",
       "<text style=\"fill:#000000; fill-opacity:1; font-family:Arial,Helvetica Neue,Helvetica,sans-serif; font-size:48px; text-anchor:end;\" transform=\"rotate(0, 137.394, 1188.3)\" x=\"137.394\" y=\"1188.3\">0.5</text>\n",
       "</g>\n",
       "<g clip-path=\"url(#clip3601)\">\n",
       "<text style=\"fill:#000000; fill-opacity:1; font-family:Arial,Helvetica Neue,Helvetica,sans-serif; font-size:48px; text-anchor:end;\" transform=\"rotate(0, 137.394, 896.837)\" x=\"137.394\" y=\"896.837\">1.0</text>\n",
       "</g>\n",
       "<g clip-path=\"url(#clip3601)\">\n",
       "<text style=\"fill:#000000; fill-opacity:1; font-family:Arial,Helvetica Neue,Helvetica,sans-serif; font-size:48px; text-anchor:end;\" transform=\"rotate(0, 137.394, 605.376)\" x=\"137.394\" y=\"605.376\">1.5</text>\n",
       "</g>\n",
       "<g clip-path=\"url(#clip3601)\">\n",
       "<text style=\"fill:#000000; fill-opacity:1; font-family:Arial,Helvetica Neue,Helvetica,sans-serif; font-size:48px; text-anchor:end;\" transform=\"rotate(0, 137.394, 313.914)\" x=\"137.394\" y=\"313.914\">2.0</text>\n",
       "</g>\n",
       "<polyline clip-path=\"url(#clip3603)\" style=\"stroke:#009af9; stroke-width:4; stroke-opacity:1; fill:none\" points=\"\n",
       "  222.522,1462.26 290.443,1462.26 358.363,1461.42 426.283,1396.54 494.204,1299.41 562.124,1185.53 630.044,1114.35 697.964,1053.88 765.885,1016.39 833.805,985.691 \n",
       "  901.725,961.161 969.646,942.922 1037.57,927.742 1105.49,915.917 1173.41,907.278 1241.33,902.422 1309.25,896.972 1377.17,894.225 1445.09,892.072 1513.01,887.372 \n",
       "  1580.93,887.628 1648.85,886.307 1716.77,883.349 1784.69,882.854 1852.61,881.795 1920.53,881.63 1988.45,880.212 2056.37,880.925 2124.29,880.504 2192.21,880.838 \n",
       "  2260.13,879.328 \n",
       "  \"/>\n",
       "<polyline clip-path=\"url(#clip3603)\" style=\"stroke:#e26f46; stroke-width:4; stroke-opacity:1; fill:none\" points=\"\n",
       "  222.522,97.077 290.443,88.4582 358.363,108.236 426.283,248.811 494.204,483.278 562.124,740.083 630.044,918.292 697.964,1053.18 765.885,1144.51 833.805,1211.86 \n",
       "  901.725,1273.9 969.646,1314.71 1037.57,1347.57 1105.49,1378.03 1173.41,1396.01 1241.33,1410.35 1309.25,1420.34 1377.17,1428.82 1445.09,1434.47 1513.01,1442.46 \n",
       "  1580.93,1446.36 1648.85,1448.19 1716.77,1451.53 1784.69,1453.86 1852.61,1455.24 1920.53,1456.83 1988.45,1458.02 2056.37,1458.76 2124.29,1459.72 2192.21,1460.04 \n",
       "  2260.13,1460.48 \n",
       "  \"/>\n",
       "<polyline clip-path=\"url(#clip3603)\" style=\"stroke:#3da44d; stroke-width:4; stroke-opacity:1; fill:none\" points=\"\n",
       "  222.522,97.077 290.443,88.4582 358.363,107.398 426.283,183.088 494.204,320.429 562.124,463.357 630.044,570.382 697.964,644.804 765.885,698.63 833.805,735.29 \n",
       "  901.725,772.802 969.646,795.369 1037.57,813.056 1105.49,831.686 1173.41,841.023 1241.33,850.514 1309.25,855.052 1377.17,860.788 1445.09,864.281 1513.01,867.574 \n",
       "  1580.93,871.726 1648.85,872.232 1716.77,872.618 1784.69,874.457 1852.61,874.778 1920.53,876.198 1988.45,875.976 2056.37,877.421 2124.29,877.963 2192.21,878.618 \n",
       "  2260.13,877.546 \n",
       "  \"/>\n",
       "<polygon clip-path=\"url(#clip3601)\" points=\"\n",
       "1958.43,372.684 2249.26,372.684 2249.26,130.764 1958.43,130.764 \n",
       "  \" fill=\"#ffffff\" fill-opacity=\"1\"/>\n",
       "<polyline clip-path=\"url(#clip3601)\" style=\"stroke:#000000; stroke-width:4; stroke-opacity:1; fill:none\" points=\"\n",
       "  1958.43,372.684 2249.26,372.684 2249.26,130.764 1958.43,130.764 1958.43,372.684 \n",
       "  \"/>\n",
       "<polyline clip-path=\"url(#clip3601)\" style=\"stroke:#009af9; stroke-width:4; stroke-opacity:1; fill:none\" points=\"\n",
       "  1982.43,191.244 2126.43,191.244 \n",
       "  \"/>\n",
       "<g clip-path=\"url(#clip3601)\">\n",
       "<text style=\"fill:#000000; fill-opacity:1; font-family:Arial,Helvetica Neue,Helvetica,sans-serif; font-size:48px; text-anchor:start;\" transform=\"rotate(0, 2150.43, 208.744)\" x=\"2150.43\" y=\"208.744\">y1</text>\n",
       "</g>\n",
       "<polyline clip-path=\"url(#clip3601)\" style=\"stroke:#e26f46; stroke-width:4; stroke-opacity:1; fill:none\" points=\"\n",
       "  1982.43,251.724 2126.43,251.724 \n",
       "  \"/>\n",
       "<g clip-path=\"url(#clip3601)\">\n",
       "<text style=\"fill:#000000; fill-opacity:1; font-family:Arial,Helvetica Neue,Helvetica,sans-serif; font-size:48px; text-anchor:start;\" transform=\"rotate(0, 2150.43, 269.224)\" x=\"2150.43\" y=\"269.224\">y2</text>\n",
       "</g>\n",
       "<polyline clip-path=\"url(#clip3601)\" style=\"stroke:#3da44d; stroke-width:4; stroke-opacity:1; fill:none\" points=\"\n",
       "  1982.43,312.204 2126.43,312.204 \n",
       "  \"/>\n",
       "<g clip-path=\"url(#clip3601)\">\n",
       "<text style=\"fill:#000000; fill-opacity:1; font-family:Arial,Helvetica Neue,Helvetica,sans-serif; font-size:48px; text-anchor:start;\" transform=\"rotate(0, 2150.43, 329.704)\" x=\"2150.43\" y=\"329.704\">y3</text>\n",
       "</g>\n",
       "</svg>\n"
      ]
     },
     "execution_count": 12,
     "metadata": {},
     "output_type": "execute_result"
    }
   ],
   "source": [
    "plot(a₀, transpose(hcat(Δ...)))"
   ]
  },
  {
   "cell_type": "code",
   "execution_count": null,
   "metadata": {},
   "outputs": [],
   "source": []
  }
 ],
 "metadata": {
  "kernelspec": {
   "display_name": "Julia 1.0.0",
   "language": "julia",
   "name": "julia-1.0"
  },
  "language_info": {
   "file_extension": ".jl",
   "mimetype": "application/julia",
   "name": "julia",
   "version": "1.0.0"
  }
 },
 "nbformat": 4,
 "nbformat_minor": 2
}
